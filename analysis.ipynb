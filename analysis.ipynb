{
 "cells": [
  {
   "cell_type": "code",
   "execution_count": 1,
   "metadata": {},
   "outputs": [],
   "source": [
    "import pandas as pd"
   ]
  },
  {
   "cell_type": "code",
   "execution_count": 2,
   "metadata": {},
   "outputs": [],
   "source": [
    "vol_df = pd.read_csv(\"clean_data/clean_vol_data.csv\")\n",
    "\n",
    "invol_df = pd.read_csv(\"clean_data/clean_invol_data.csv\")"
   ]
  },
  {
   "cell_type": "markdown",
   "metadata": {},
   "source": [
    "# Regions\n",
    "https://www.nationalgeographic.org/maps/united-states-regions/\n",
    "### Northeast(9) = ME, MA, RI, CT, NH, VT, NY, PA, NJ\n",
    "### Southeast(14) = DE, MD, WV, VA, KT, TN, NC, SC, GA, AL, MS, AR, LA, FL\n",
    "### Midwest(12) = OH, IN, MI, IL, MO, WI, MN, IA, KS, NE, SD, ND\n",
    "### Southwest(4) = TX, OK, NM, AZ\n",
    "### West(11) = CO, WY, MT, ID, WA, OR, UT, NV, CA, AK, HI"
   ]
  },
  {
   "cell_type": "code",
   "execution_count": 4,
   "metadata": {},
   "outputs": [
    {
     "data": {
      "text/plain": [
       "Midwest      98\n",
       "Northeast    65\n",
       "Southeast    64\n",
       "West         54\n",
       "Southwest    43\n",
       "Name: Region, dtype: int64"
      ]
     },
     "execution_count": 4,
     "metadata": {},
     "output_type": "execute_result"
    }
   ],
   "source": [
    "vol_df[\"Region\"].value_counts()"
   ]
  },
  {
   "cell_type": "code",
   "execution_count": 5,
   "metadata": {},
   "outputs": [
    {
     "data": {
      "text/plain": [
       "Southeast    580\n",
       "Midwest       83\n",
       "Southwest     64\n",
       "Northeast     21\n",
       "West          16\n",
       "Name: Region, dtype: int64"
      ]
     },
     "execution_count": 5,
     "metadata": {},
     "output_type": "execute_result"
    }
   ],
   "source": [
    "invol_df[\"Region\"].value_counts()"
   ]
  },
  {
   "cell_type": "code",
   "execution_count": null,
   "metadata": {},
   "outputs": [],
   "source": []
  }
 ],
 "metadata": {
  "kernelspec": {
   "display_name": "Python 3",
   "language": "python",
   "name": "python3"
  },
  "language_info": {
   "codemirror_mode": {
    "name": "ipython",
    "version": 3
   },
   "file_extension": ".py",
   "mimetype": "text/x-python",
   "name": "python",
   "nbconvert_exporter": "python",
   "pygments_lexer": "ipython3",
   "version": "3.7.4"
  }
 },
 "nbformat": 4,
 "nbformat_minor": 2
}
